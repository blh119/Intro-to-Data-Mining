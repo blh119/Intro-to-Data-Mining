{
 "cells": [
  {
   "cell_type": "markdown",
   "metadata": {},
   "source": [
    "Brian Holliday<br/>\n",
    "Professor Li<br/>\n",
    "Intro to Data Mining<br/>\n",
    "24 February 2020"
   ]
  },
  {
   "cell_type": "markdown",
   "metadata": {},
   "source": [
    "## Project 3b"
   ]
  },
  {
   "cell_type": "markdown",
   "metadata": {},
   "source": [
    "### Problem 3"
   ]
  },
  {
   "cell_type": "code",
   "execution_count": 1,
   "metadata": {},
   "outputs": [],
   "source": [
    "exams <- read.csv('exam_scores_all(1)(1).csv', sep = ',', na.strings = c('NO SCORE', 'withdraw','missed'), header = TRUE)"
   ]
  },
  {
   "cell_type": "code",
   "execution_count": 2,
   "metadata": {},
   "outputs": [
    {
     "data": {
      "text/html": [
       "<table>\n",
       "<thead><tr><th scope=col>Student</th><th scope=col>Exam.1</th><th scope=col>Exam.2</th><th scope=col>Exam.3</th><th scope=col>Final.Exam</th></tr></thead>\n",
       "<tbody>\n",
       "\t<tr><td>S#1 </td><td>76  </td><td>82  </td><td>89  </td><td>95  </td></tr>\n",
       "\t<tr><td>S#2 </td><td>65  </td><td>71  </td><td>58  </td><td>54  </td></tr>\n",
       "\t<tr><td>S#3 </td><td>61  </td><td>34  </td><td>37  </td><td> 0  </td></tr>\n",
       "\t<tr><td>S#4 </td><td>71  </td><td>88  </td><td>86  </td><td>83  </td></tr>\n",
       "\t<tr><td>S#5 </td><td>42  </td><td>44  </td><td>53  </td><td>38  </td></tr>\n",
       "\t<tr><td>S#6 </td><td>54  </td><td>37  </td><td>58  </td><td>53  </td></tr>\n",
       "\t<tr><td>S#7 </td><td>50  </td><td>38  </td><td>30  </td><td> 0  </td></tr>\n",
       "\t<tr><td>S#8 </td><td>90  </td><td>74  </td><td>90  </td><td>92  </td></tr>\n",
       "\t<tr><td>S#9 </td><td>57  </td><td>64  </td><td>70  </td><td>62  </td></tr>\n",
       "\t<tr><td>S#10</td><td>69  </td><td>67  </td><td>65  </td><td>38  </td></tr>\n",
       "</tbody>\n",
       "</table>\n"
      ],
      "text/latex": [
       "\\begin{tabular}{r|lllll}\n",
       " Student & Exam.1 & Exam.2 & Exam.3 & Final.Exam\\\\\n",
       "\\hline\n",
       "\t S\\#1  & 76     & 82     & 89     & 95    \\\\\n",
       "\t S\\#2  & 65     & 71     & 58     & 54    \\\\\n",
       "\t S\\#3  & 61     & 34     & 37     &  0    \\\\\n",
       "\t S\\#4  & 71     & 88     & 86     & 83    \\\\\n",
       "\t S\\#5  & 42     & 44     & 53     & 38    \\\\\n",
       "\t S\\#6  & 54     & 37     & 58     & 53    \\\\\n",
       "\t S\\#7  & 50     & 38     & 30     &  0    \\\\\n",
       "\t S\\#8  & 90     & 74     & 90     & 92    \\\\\n",
       "\t S\\#9  & 57     & 64     & 70     & 62    \\\\\n",
       "\t S\\#10 & 69     & 67     & 65     & 38    \\\\\n",
       "\\end{tabular}\n"
      ],
      "text/markdown": [
       "\n",
       "| Student | Exam.1 | Exam.2 | Exam.3 | Final.Exam |\n",
       "|---|---|---|---|---|\n",
       "| S#1  | 76   | 82   | 89   | 95   |\n",
       "| S#2  | 65   | 71   | 58   | 54   |\n",
       "| S#3  | 61   | 34   | 37   |  0   |\n",
       "| S#4  | 71   | 88   | 86   | 83   |\n",
       "| S#5  | 42   | 44   | 53   | 38   |\n",
       "| S#6  | 54   | 37   | 58   | 53   |\n",
       "| S#7  | 50   | 38   | 30   |  0   |\n",
       "| S#8  | 90   | 74   | 90   | 92   |\n",
       "| S#9  | 57   | 64   | 70   | 62   |\n",
       "| S#10 | 69   | 67   | 65   | 38   |\n",
       "\n"
      ],
      "text/plain": [
       "   Student Exam.1 Exam.2 Exam.3 Final.Exam\n",
       "1  S#1     76     82     89     95        \n",
       "2  S#2     65     71     58     54        \n",
       "3  S#3     61     34     37      0        \n",
       "4  S#4     71     88     86     83        \n",
       "5  S#5     42     44     53     38        \n",
       "6  S#6     54     37     58     53        \n",
       "7  S#7     50     38     30      0        \n",
       "8  S#8     90     74     90     92        \n",
       "9  S#9     57     64     70     62        \n",
       "10 S#10    69     67     65     38        "
      ]
     },
     "metadata": {},
     "output_type": "display_data"
    }
   ],
   "source": [
    "head(exams,10)"
   ]
  },
  {
   "cell_type": "markdown",
   "metadata": {},
   "source": [
    "Find the students in which their exams scores are in increasing order"
   ]
  },
  {
   "cell_type": "markdown",
   "metadata": {},
   "source": [
    "Lets remove all rows with na values"
   ]
  },
  {
   "cell_type": "code",
   "execution_count": 3,
   "metadata": {},
   "outputs": [],
   "source": [
    "exams <- na.omit(exams)"
   ]
  },
  {
   "cell_type": "markdown",
   "metadata": {},
   "source": [
    "Now lets make all of the comparisons between the test to find the ones in increasing order"
   ]
  },
  {
   "cell_type": "code",
   "execution_count": 4,
   "metadata": {},
   "outputs": [],
   "source": [
    "exam1 <- exams$Exam.1"
   ]
  },
  {
   "cell_type": "code",
   "execution_count": 5,
   "metadata": {},
   "outputs": [],
   "source": [
    "exam2 <- exams$Exam.2"
   ]
  },
  {
   "cell_type": "code",
   "execution_count": 6,
   "metadata": {},
   "outputs": [
    {
     "data": {
      "text/html": [
       "<ol class=list-inline>\n",
       "\t<li>1</li>\n",
       "\t<li>2</li>\n",
       "\t<li>4</li>\n",
       "\t<li>5</li>\n",
       "\t<li>9</li>\n",
       "\t<li>11</li>\n",
       "\t<li>12</li>\n",
       "\t<li>14</li>\n",
       "\t<li>16</li>\n",
       "\t<li>17</li>\n",
       "\t<li>19</li>\n",
       "\t<li>21</li>\n",
       "\t<li>22</li>\n",
       "\t<li>23</li>\n",
       "\t<li>25</li>\n",
       "\t<li>26</li>\n",
       "\t<li>28</li>\n",
       "\t<li>30</li>\n",
       "\t<li>32</li>\n",
       "\t<li>35</li>\n",
       "\t<li>38</li>\n",
       "\t<li>39</li>\n",
       "\t<li>41</li>\n",
       "\t<li>42</li>\n",
       "\t<li>44</li>\n",
       "\t<li>46</li>\n",
       "\t<li>47</li>\n",
       "\t<li>48</li>\n",
       "\t<li>49</li>\n",
       "\t<li>50</li>\n",
       "\t<li>51</li>\n",
       "\t<li>54</li>\n",
       "\t<li>55</li>\n",
       "\t<li>56</li>\n",
       "\t<li>58</li>\n",
       "\t<li>62</li>\n",
       "\t<li>63</li>\n",
       "\t<li>66</li>\n",
       "\t<li>67</li>\n",
       "\t<li>69</li>\n",
       "\t<li>70</li>\n",
       "\t<li>73</li>\n",
       "\t<li>74</li>\n",
       "\t<li>76</li>\n",
       "\t<li>77</li>\n",
       "\t<li>79</li>\n",
       "\t<li>80</li>\n",
       "\t<li>82</li>\n",
       "\t<li>83</li>\n",
       "\t<li>85</li>\n",
       "</ol>\n"
      ],
      "text/latex": [
       "\\begin{enumerate*}\n",
       "\\item 1\n",
       "\\item 2\n",
       "\\item 4\n",
       "\\item 5\n",
       "\\item 9\n",
       "\\item 11\n",
       "\\item 12\n",
       "\\item 14\n",
       "\\item 16\n",
       "\\item 17\n",
       "\\item 19\n",
       "\\item 21\n",
       "\\item 22\n",
       "\\item 23\n",
       "\\item 25\n",
       "\\item 26\n",
       "\\item 28\n",
       "\\item 30\n",
       "\\item 32\n",
       "\\item 35\n",
       "\\item 38\n",
       "\\item 39\n",
       "\\item 41\n",
       "\\item 42\n",
       "\\item 44\n",
       "\\item 46\n",
       "\\item 47\n",
       "\\item 48\n",
       "\\item 49\n",
       "\\item 50\n",
       "\\item 51\n",
       "\\item 54\n",
       "\\item 55\n",
       "\\item 56\n",
       "\\item 58\n",
       "\\item 62\n",
       "\\item 63\n",
       "\\item 66\n",
       "\\item 67\n",
       "\\item 69\n",
       "\\item 70\n",
       "\\item 73\n",
       "\\item 74\n",
       "\\item 76\n",
       "\\item 77\n",
       "\\item 79\n",
       "\\item 80\n",
       "\\item 82\n",
       "\\item 83\n",
       "\\item 85\n",
       "\\end{enumerate*}\n"
      ],
      "text/markdown": [
       "1. 1\n",
       "2. 2\n",
       "3. 4\n",
       "4. 5\n",
       "5. 9\n",
       "6. 11\n",
       "7. 12\n",
       "8. 14\n",
       "9. 16\n",
       "10. 17\n",
       "11. 19\n",
       "12. 21\n",
       "13. 22\n",
       "14. 23\n",
       "15. 25\n",
       "16. 26\n",
       "17. 28\n",
       "18. 30\n",
       "19. 32\n",
       "20. 35\n",
       "21. 38\n",
       "22. 39\n",
       "23. 41\n",
       "24. 42\n",
       "25. 44\n",
       "26. 46\n",
       "27. 47\n",
       "28. 48\n",
       "29. 49\n",
       "30. 50\n",
       "31. 51\n",
       "32. 54\n",
       "33. 55\n",
       "34. 56\n",
       "35. 58\n",
       "36. 62\n",
       "37. 63\n",
       "38. 66\n",
       "39. 67\n",
       "40. 69\n",
       "41. 70\n",
       "42. 73\n",
       "43. 74\n",
       "44. 76\n",
       "45. 77\n",
       "46. 79\n",
       "47. 80\n",
       "48. 82\n",
       "49. 83\n",
       "50. 85\n",
       "\n",
       "\n"
      ],
      "text/plain": [
       " [1]  1  2  4  5  9 11 12 14 16 17 19 21 22 23 25 26 28 30 32 35 38 39 41 42 44\n",
       "[26] 46 47 48 49 50 51 54 55 56 58 62 63 66 67 69 70 73 74 76 77 79 80 82 83 85"
      ]
     },
     "metadata": {},
     "output_type": "display_data"
    }
   ],
   "source": [
    "which(exam2 > exam1)"
   ]
  },
  {
   "cell_type": "code",
   "execution_count": 7,
   "metadata": {},
   "outputs": [],
   "source": [
    "exams1 <- exams[which(exam2 > exam1),c(1,2,3,4,5)]"
   ]
  },
  {
   "cell_type": "code",
   "execution_count": 8,
   "metadata": {},
   "outputs": [],
   "source": [
    "exam2 <- exams1$Exam.2"
   ]
  },
  {
   "cell_type": "code",
   "execution_count": 9,
   "metadata": {},
   "outputs": [],
   "source": [
    "exam3 <- exams1$Exam.3"
   ]
  },
  {
   "cell_type": "code",
   "execution_count": 10,
   "metadata": {},
   "outputs": [],
   "source": [
    "exams2 <- exams1[which(exam3 > exam2),c(1,2,3,4,5)]"
   ]
  },
  {
   "cell_type": "code",
   "execution_count": 11,
   "metadata": {},
   "outputs": [],
   "source": [
    "exam3 <- exams2$Exam.3"
   ]
  },
  {
   "cell_type": "code",
   "execution_count": 12,
   "metadata": {},
   "outputs": [],
   "source": [
    "final <- exams2$Final.Exam"
   ]
  },
  {
   "cell_type": "code",
   "execution_count": 13,
   "metadata": {},
   "outputs": [
    {
     "data": {
      "text/html": [
       "18"
      ],
      "text/latex": [
       "18"
      ],
      "text/markdown": [
       "18"
      ],
      "text/plain": [
       "[1] 18"
      ]
     },
     "metadata": {},
     "output_type": "display_data"
    }
   ],
   "source": [
    "length(final)"
   ]
  },
  {
   "cell_type": "code",
   "execution_count": 14,
   "metadata": {},
   "outputs": [
    {
     "data": {
      "text/html": [
       "18"
      ],
      "text/latex": [
       "18"
      ],
      "text/markdown": [
       "18"
      ],
      "text/plain": [
       "[1] 18"
      ]
     },
     "metadata": {},
     "output_type": "display_data"
    }
   ],
   "source": [
    "length(exam3)"
   ]
  },
  {
   "cell_type": "code",
   "execution_count": 15,
   "metadata": {},
   "outputs": [
    {
     "data": {
      "text/html": [
       "<ol class=list-inline>\n",
       "\t<li>1</li>\n",
       "\t<li>4</li>\n",
       "\t<li>6</li>\n",
       "\t<li>9</li>\n",
       "\t<li>13</li>\n",
       "\t<li>14</li>\n",
       "\t<li>15</li>\n",
       "</ol>\n"
      ],
      "text/latex": [
       "\\begin{enumerate*}\n",
       "\\item 1\n",
       "\\item 4\n",
       "\\item 6\n",
       "\\item 9\n",
       "\\item 13\n",
       "\\item 14\n",
       "\\item 15\n",
       "\\end{enumerate*}\n"
      ],
      "text/markdown": [
       "1. 1\n",
       "2. 4\n",
       "3. 6\n",
       "4. 9\n",
       "5. 13\n",
       "6. 14\n",
       "7. 15\n",
       "\n",
       "\n"
      ],
      "text/plain": [
       "[1]  1  4  6  9 13 14 15"
      ]
     },
     "metadata": {},
     "output_type": "display_data"
    }
   ],
   "source": [
    "which(final>exam3)"
   ]
  },
  {
   "cell_type": "markdown",
   "metadata": {},
   "source": [
    "now we have a list of exam scores in which the exam scores increased"
   ]
  },
  {
   "cell_type": "code",
   "execution_count": 16,
   "metadata": {},
   "outputs": [
    {
     "data": {
      "text/html": [
       "<table>\n",
       "<thead><tr><th></th><th scope=col>Student</th><th scope=col>Exam.1</th><th scope=col>Exam.2</th><th scope=col>Exam.3</th><th scope=col>Final.Exam</th></tr></thead>\n",
       "<tbody>\n",
       "\t<tr><th scope=row>1</th><td>S#1 </td><td>76  </td><td>82  </td><td>89  </td><td>95  </td></tr>\n",
       "\t<tr><th scope=row>16</th><td>S#16</td><td>82  </td><td>93  </td><td>94  </td><td>99  </td></tr>\n",
       "\t<tr><th scope=row>24</th><td>S#24</td><td>37  </td><td>44  </td><td>49  </td><td>54  </td></tr>\n",
       "\t<tr><th scope=row>58</th><td>S#58</td><td>49  </td><td>73  </td><td>78  </td><td>86  </td></tr>\n",
       "\t<tr><th scope=row>75</th><td>S#75</td><td>70  </td><td>77  </td><td>84  </td><td>88  </td></tr>\n",
       "\t<tr><th scope=row>83</th><td>S#83</td><td>57  </td><td>65  </td><td>72  </td><td>74  </td></tr>\n",
       "\t<tr><th scope=row>90</th><td>S#90</td><td>62  </td><td>76  </td><td>78  </td><td>83  </td></tr>\n",
       "</tbody>\n",
       "</table>\n"
      ],
      "text/latex": [
       "\\begin{tabular}{r|lllll}\n",
       "  & Student & Exam.1 & Exam.2 & Exam.3 & Final.Exam\\\\\n",
       "\\hline\n",
       "\t1 & S\\#1  & 76     & 82     & 89     & 95    \\\\\n",
       "\t16 & S\\#16 & 82     & 93     & 94     & 99    \\\\\n",
       "\t24 & S\\#24 & 37     & 44     & 49     & 54    \\\\\n",
       "\t58 & S\\#58 & 49     & 73     & 78     & 86    \\\\\n",
       "\t75 & S\\#75 & 70     & 77     & 84     & 88    \\\\\n",
       "\t83 & S\\#83 & 57     & 65     & 72     & 74    \\\\\n",
       "\t90 & S\\#90 & 62     & 76     & 78     & 83    \\\\\n",
       "\\end{tabular}\n"
      ],
      "text/markdown": [
       "\n",
       "| <!--/--> | Student | Exam.1 | Exam.2 | Exam.3 | Final.Exam |\n",
       "|---|---|---|---|---|---|\n",
       "| 1 | S#1  | 76   | 82   | 89   | 95   |\n",
       "| 16 | S#16 | 82   | 93   | 94   | 99   |\n",
       "| 24 | S#24 | 37   | 44   | 49   | 54   |\n",
       "| 58 | S#58 | 49   | 73   | 78   | 86   |\n",
       "| 75 | S#75 | 70   | 77   | 84   | 88   |\n",
       "| 83 | S#83 | 57   | 65   | 72   | 74   |\n",
       "| 90 | S#90 | 62   | 76   | 78   | 83   |\n",
       "\n"
      ],
      "text/plain": [
       "   Student Exam.1 Exam.2 Exam.3 Final.Exam\n",
       "1  S#1     76     82     89     95        \n",
       "16 S#16    82     93     94     99        \n",
       "24 S#24    37     44     49     54        \n",
       "58 S#58    49     73     78     86        \n",
       "75 S#75    70     77     84     88        \n",
       "83 S#83    57     65     72     74        \n",
       "90 S#90    62     76     78     83        "
      ]
     },
     "metadata": {},
     "output_type": "display_data"
    }
   ],
   "source": [
    "exams2[which(final>exam3),c(1,2,3,4,5)]"
   ]
  },
  {
   "cell_type": "code",
   "execution_count": 17,
   "metadata": {},
   "outputs": [],
   "source": [
    "ascending_list <- c(1,16,24,58,75,83,90)"
   ]
  },
  {
   "cell_type": "markdown",
   "metadata": {},
   "source": [
    "Lets read in the file again "
   ]
  },
  {
   "cell_type": "code",
   "execution_count": 18,
   "metadata": {},
   "outputs": [],
   "source": [
    "exams <- read.csv('exam_scores_all(1)(1).csv', sep = ',', na.strings = c('NO SCORE', 'withdraw','missed'), header = TRUE)"
   ]
  },
  {
   "cell_type": "code",
   "execution_count": 19,
   "metadata": {},
   "outputs": [
    {
     "data": {
      "text/html": [
       "<table>\n",
       "<thead><tr><th></th><th scope=col>Student</th><th scope=col>Exam.1</th><th scope=col>Exam.2</th><th scope=col>Exam.3</th><th scope=col>Final.Exam</th></tr></thead>\n",
       "<tbody>\n",
       "\t<tr><th scope=row>1</th><td>S#1 </td><td>76  </td><td>82  </td><td>89  </td><td>95  </td></tr>\n",
       "\t<tr><th scope=row>16</th><td>S#16</td><td>82  </td><td>93  </td><td>94  </td><td>99  </td></tr>\n",
       "\t<tr><th scope=row>24</th><td>S#24</td><td>37  </td><td>44  </td><td>49  </td><td>54  </td></tr>\n",
       "\t<tr><th scope=row>58</th><td>S#58</td><td>49  </td><td>73  </td><td>78  </td><td>86  </td></tr>\n",
       "\t<tr><th scope=row>75</th><td>S#75</td><td>70  </td><td>77  </td><td>84  </td><td>88  </td></tr>\n",
       "\t<tr><th scope=row>83</th><td>S#83</td><td>57  </td><td>65  </td><td>72  </td><td>74  </td></tr>\n",
       "\t<tr><th scope=row>90</th><td>S#90</td><td>62  </td><td>76  </td><td>78  </td><td>83  </td></tr>\n",
       "</tbody>\n",
       "</table>\n"
      ],
      "text/latex": [
       "\\begin{tabular}{r|lllll}\n",
       "  & Student & Exam.1 & Exam.2 & Exam.3 & Final.Exam\\\\\n",
       "\\hline\n",
       "\t1 & S\\#1  & 76     & 82     & 89     & 95    \\\\\n",
       "\t16 & S\\#16 & 82     & 93     & 94     & 99    \\\\\n",
       "\t24 & S\\#24 & 37     & 44     & 49     & 54    \\\\\n",
       "\t58 & S\\#58 & 49     & 73     & 78     & 86    \\\\\n",
       "\t75 & S\\#75 & 70     & 77     & 84     & 88    \\\\\n",
       "\t83 & S\\#83 & 57     & 65     & 72     & 74    \\\\\n",
       "\t90 & S\\#90 & 62     & 76     & 78     & 83    \\\\\n",
       "\\end{tabular}\n"
      ],
      "text/markdown": [
       "\n",
       "| <!--/--> | Student | Exam.1 | Exam.2 | Exam.3 | Final.Exam |\n",
       "|---|---|---|---|---|---|\n",
       "| 1 | S#1  | 76   | 82   | 89   | 95   |\n",
       "| 16 | S#16 | 82   | 93   | 94   | 99   |\n",
       "| 24 | S#24 | 37   | 44   | 49   | 54   |\n",
       "| 58 | S#58 | 49   | 73   | 78   | 86   |\n",
       "| 75 | S#75 | 70   | 77   | 84   | 88   |\n",
       "| 83 | S#83 | 57   | 65   | 72   | 74   |\n",
       "| 90 | S#90 | 62   | 76   | 78   | 83   |\n",
       "\n"
      ],
      "text/plain": [
       "   Student Exam.1 Exam.2 Exam.3 Final.Exam\n",
       "1  S#1     76     82     89     95        \n",
       "16 S#16    82     93     94     99        \n",
       "24 S#24    37     44     49     54        \n",
       "58 S#58    49     73     78     86        \n",
       "75 S#75    70     77     84     88        \n",
       "83 S#83    57     65     72     74        \n",
       "90 S#90    62     76     78     83        "
      ]
     },
     "metadata": {},
     "output_type": "display_data"
    }
   ],
   "source": [
    "exams[ascending_list,]"
   ]
  },
  {
   "cell_type": "markdown",
   "metadata": {},
   "source": [
    "Now we have identified the students that did better with each test"
   ]
  },
  {
   "cell_type": "markdown",
   "metadata": {},
   "source": [
    " "
   ]
  }
 ],
 "metadata": {
  "kernelspec": {
   "display_name": "R",
   "language": "R",
   "name": "ir"
  },
  "language_info": {
   "codemirror_mode": "r",
   "file_extension": ".r",
   "mimetype": "text/x-r-source",
   "name": "R",
   "pygments_lexer": "r",
   "version": "3.6.1"
  }
 },
 "nbformat": 4,
 "nbformat_minor": 4
}
