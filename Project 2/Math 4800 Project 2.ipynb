{
 "cells": [
  {
   "cell_type": "markdown",
   "metadata": {},
   "source": [
    "Brian Holliday<br/>\n",
    "Professor Li<br/>\n",
    "Data Minning<br/>\n",
    "13 February 2020"
   ]
  },
  {
   "cell_type": "markdown",
   "metadata": {},
   "source": [
    "## Project 2"
   ]
  },
  {
   "cell_type": "markdown",
   "metadata": {},
   "source": [
    "### Problem 1"
   ]
  },
  {
   "cell_type": "code",
   "execution_count": 3,
   "metadata": {},
   "outputs": [],
   "source": [
    "exams <- read.csv('exam_scores_all(1)(1).csv', sep = ',', header = TRUE)"
   ]
  },
  {
   "cell_type": "markdown",
   "metadata": {},
   "source": [
    "### Problem 2"
   ]
  },
  {
   "cell_type": "markdown",
   "metadata": {},
   "source": [
    "lets check what type of columns we have and see if they are fit for computation"
   ]
  },
  {
   "cell_type": "code",
   "execution_count": 4,
   "metadata": {},
   "outputs": [
    {
     "data": {
      "text/html": [
       "<dl class=dl-horizontal>\n",
       "\t<dt>Student</dt>\n",
       "\t\t<dd>'factor'</dd>\n",
       "\t<dt>Exam.1</dt>\n",
       "\t\t<dd>'integer'</dd>\n",
       "\t<dt>Exam.2</dt>\n",
       "\t\t<dd>'factor'</dd>\n",
       "\t<dt>Exam.3</dt>\n",
       "\t\t<dd>'factor'</dd>\n",
       "\t<dt>Final.Exam</dt>\n",
       "\t\t<dd>'factor'</dd>\n",
       "</dl>\n"
      ],
      "text/latex": [
       "\\begin{description*}\n",
       "\\item[Student] 'factor'\n",
       "\\item[Exam.1] 'integer'\n",
       "\\item[Exam.2] 'factor'\n",
       "\\item[Exam.3] 'factor'\n",
       "\\item[Final.Exam] 'factor'\n",
       "\\end{description*}\n"
      ],
      "text/markdown": [
       "Student\n",
       ":   'factor'Exam.1\n",
       ":   'integer'Exam.2\n",
       ":   'factor'Exam.3\n",
       ":   'factor'Final.Exam\n",
       ":   'factor'\n",
       "\n"
      ],
      "text/plain": [
       "   Student     Exam.1     Exam.2     Exam.3 Final.Exam \n",
       "  \"factor\"  \"integer\"   \"factor\"   \"factor\"   \"factor\" "
      ]
     },
     "metadata": {},
     "output_type": "display_data"
    }
   ],
   "source": [
    "sapply(exams,class)"
   ]
  },
  {
   "cell_type": "markdown",
   "metadata": {},
   "source": [
    "we have four factor columns and one integer, change the exam columns to integers<br/>\n",
    "lets read the data in again, taking out specific values in our factor colums using the na.stings argument"
   ]
  },
  {
   "cell_type": "code",
   "execution_count": 5,
   "metadata": {},
   "outputs": [],
   "source": [
    "exams <- read.csv('exam_scores_all(1)(1).csv', sep = ',', header = TRUE, na.string = c('missed', 'NO SCORE', 'withdraw'))"
   ]
  },
  {
   "cell_type": "code",
   "execution_count": 18,
   "metadata": {},
   "outputs": [
    {
     "data": {
      "text/html": [
       "<dl class=dl-horizontal>\n",
       "\t<dt>Student</dt>\n",
       "\t\t<dd>'factor'</dd>\n",
       "\t<dt>Exam.1</dt>\n",
       "\t\t<dd>'integer'</dd>\n",
       "\t<dt>Exam.2</dt>\n",
       "\t\t<dd>'integer'</dd>\n",
       "\t<dt>Exam.3</dt>\n",
       "\t\t<dd>'integer'</dd>\n",
       "\t<dt>Final.Exam</dt>\n",
       "\t\t<dd>'integer'</dd>\n",
       "</dl>\n"
      ],
      "text/latex": [
       "\\begin{description*}\n",
       "\\item[Student] 'factor'\n",
       "\\item[Exam.1] 'integer'\n",
       "\\item[Exam.2] 'integer'\n",
       "\\item[Exam.3] 'integer'\n",
       "\\item[Final.Exam] 'integer'\n",
       "\\end{description*}\n"
      ],
      "text/markdown": [
       "Student\n",
       ":   'factor'Exam.1\n",
       ":   'integer'Exam.2\n",
       ":   'integer'Exam.3\n",
       ":   'integer'Final.Exam\n",
       ":   'integer'\n",
       "\n"
      ],
      "text/plain": [
       "   Student     Exam.1     Exam.2     Exam.3 Final.Exam \n",
       "  \"factor\"  \"integer\"  \"integer\"  \"integer\"  \"integer\" "
      ]
     },
     "metadata": {},
     "output_type": "display_data"
    }
   ],
   "source": [
    "sapply(exams,class)"
   ]
  },
  {
   "cell_type": "markdown",
   "metadata": {},
   "source": [
    "Now we have integer columns and factor columns in the right places"
   ]
  },
  {
   "cell_type": "markdown",
   "metadata": {},
   "source": [
    "### Problem 3"
   ]
  },
  {
   "cell_type": "markdown",
   "metadata": {},
   "source": [
    "lets fill in the null values for Exam 2<br/>\n",
    "We will take the mean and median to see what fits best"
   ]
  },
  {
   "cell_type": "code",
   "execution_count": 6,
   "metadata": {},
   "outputs": [
    {
     "data": {
      "text/html": [
       "59.7078651685393"
      ],
      "text/latex": [
       "59.7078651685393"
      ],
      "text/markdown": [
       "59.7078651685393"
      ],
      "text/plain": [
       "[1] 59.70787"
      ]
     },
     "metadata": {},
     "output_type": "display_data"
    }
   ],
   "source": [
    "mean(exams$Exam.2,na.rm = TRUE)"
   ]
  },
  {
   "cell_type": "code",
   "execution_count": 7,
   "metadata": {},
   "outputs": [
    {
     "data": {
      "text/html": [
       "64"
      ],
      "text/latex": [
       "64"
      ],
      "text/markdown": [
       "64"
      ],
      "text/plain": [
       "[1] 64"
      ]
     },
     "metadata": {},
     "output_type": "display_data"
    }
   ],
   "source": [
    "median(exams$Exam.2,na.rm = TRUE)"
   ]
  },
  {
   "cell_type": "code",
   "execution_count": 8,
   "metadata": {},
   "outputs": [
    {
     "data": {
      "text/html": [
       "18.0870384575096"
      ],
      "text/latex": [
       "18.0870384575096"
      ],
      "text/markdown": [
       "18.0870384575096"
      ],
      "text/plain": [
       "[1] 18.08704"
      ]
     },
     "metadata": {},
     "output_type": "display_data"
    }
   ],
   "source": [
    "sd(exams$Exam.2,na.rm = TRUE)"
   ]
  },
  {
   "cell_type": "markdown",
   "metadata": {},
   "source": [
    "Our data is skewed to the left.<br/>\n",
    "We will use median to fill scores because of our significant standard deviation"
   ]
  },
  {
   "cell_type": "code",
   "execution_count": 9,
   "metadata": {},
   "outputs": [],
   "source": [
    "exams$Exam.2[which(is.na(exams$Exam.2))] <- median(exams$Exam.2,na.rm\n",
    " = TRUE)"
   ]
  },
  {
   "cell_type": "markdown",
   "metadata": {},
   "source": [
    "We have now replaced our null values with the median and we are ready to sample"
   ]
  },
  {
   "cell_type": "code",
   "execution_count": 10,
   "metadata": {},
   "outputs": [
    {
     "data": {
      "text/html": [
       "<ol class=list-inline>\n",
       "\t<li>82</li>\n",
       "\t<li>71</li>\n",
       "\t<li>34</li>\n",
       "\t<li>88</li>\n",
       "\t<li>44</li>\n",
       "\t<li>37</li>\n",
       "\t<li>38</li>\n",
       "\t<li>74</li>\n",
       "\t<li>64</li>\n",
       "\t<li>67</li>\n",
       "\t<li>74</li>\n",
       "\t<li>64</li>\n",
       "\t<li>32</li>\n",
       "\t<li>83</li>\n",
       "\t<li>39</li>\n",
       "\t<li>93</li>\n",
       "\t<li>64</li>\n",
       "\t<li>85</li>\n",
       "\t<li>66</li>\n",
       "\t<li>52</li>\n",
       "\t<li>65</li>\n",
       "\t<li>42</li>\n",
       "\t<li>60</li>\n",
       "\t<li>44</li>\n",
       "\t<li>56</li>\n",
       "\t<li>40</li>\n",
       "\t<li>63</li>\n",
       "\t<li>62</li>\n",
       "\t<li>64</li>\n",
       "\t<li>76</li>\n",
       "\t<li>60</li>\n",
       "\t<li>50</li>\n",
       "\t<li>33</li>\n",
       "\t<li>66</li>\n",
       "\t<li>29</li>\n",
       "\t<li>66</li>\n",
       "\t<li>59</li>\n",
       "\t<li>70</li>\n",
       "\t<li>64</li>\n",
       "\t<li>64</li>\n",
       "\t<li>64</li>\n",
       "\t<li>80</li>\n",
       "\t<li>7</li>\n",
       "\t<li>44</li>\n",
       "\t<li>33</li>\n",
       "\t<li>74</li>\n",
       "\t<li>64</li>\n",
       "\t<li>70</li>\n",
       "\t<li>77</li>\n",
       "\t<li>65</li>\n",
       "\t<li>77</li>\n",
       "\t<li>82</li>\n",
       "\t<li>53</li>\n",
       "\t<li>67</li>\n",
       "\t<li>77</li>\n",
       "\t<li>71</li>\n",
       "\t<li>64</li>\n",
       "\t<li>73</li>\n",
       "\t<li>25</li>\n",
       "\t<li>59</li>\n",
       "\t<li>56</li>\n",
       "\t<li>75</li>\n",
       "\t<li>32</li>\n",
       "\t<li>69</li>\n",
       "\t<li>20</li>\n",
       "\t<li>94</li>\n",
       "\t<li>64</li>\n",
       "\t<li>73</li>\n",
       "\t<li>65</li>\n",
       "\t<li>37</li>\n",
       "\t<li>49</li>\n",
       "\t<li>54</li>\n",
       "\t<li>50</li>\n",
       "\t<li>66</li>\n",
       "\t<li>77</li>\n",
       "\t<li>61</li>\n",
       "\t<li>63</li>\n",
       "\t<li>72</li>\n",
       "\t<li>79</li>\n",
       "\t<li>66</li>\n",
       "\t<li>64</li>\n",
       "\t<li>54</li>\n",
       "\t<li>65</li>\n",
       "\t<li>41</li>\n",
       "\t<li>64</li>\n",
       "\t<li>32</li>\n",
       "\t<li>74</li>\n",
       "\t<li>90</li>\n",
       "\t<li>30</li>\n",
       "\t<li>76</li>\n",
       "\t<li>80</li>\n",
       "\t<li>57</li>\n",
       "\t<li>36</li>\n",
       "\t<li>70</li>\n",
       "\t<li>56</li>\n",
       "\t<li>59</li>\n",
       "\t<li>54</li>\n",
       "\t<li>65</li>\n",
       "\t<li>73</li>\n",
       "\t<li>64</li>\n",
       "\t<li>46</li>\n",
       "</ol>\n"
      ],
      "text/latex": [
       "\\begin{enumerate*}\n",
       "\\item 82\n",
       "\\item 71\n",
       "\\item 34\n",
       "\\item 88\n",
       "\\item 44\n",
       "\\item 37\n",
       "\\item 38\n",
       "\\item 74\n",
       "\\item 64\n",
       "\\item 67\n",
       "\\item 74\n",
       "\\item 64\n",
       "\\item 32\n",
       "\\item 83\n",
       "\\item 39\n",
       "\\item 93\n",
       "\\item 64\n",
       "\\item 85\n",
       "\\item 66\n",
       "\\item 52\n",
       "\\item 65\n",
       "\\item 42\n",
       "\\item 60\n",
       "\\item 44\n",
       "\\item 56\n",
       "\\item 40\n",
       "\\item 63\n",
       "\\item 62\n",
       "\\item 64\n",
       "\\item 76\n",
       "\\item 60\n",
       "\\item 50\n",
       "\\item 33\n",
       "\\item 66\n",
       "\\item 29\n",
       "\\item 66\n",
       "\\item 59\n",
       "\\item 70\n",
       "\\item 64\n",
       "\\item 64\n",
       "\\item 64\n",
       "\\item 80\n",
       "\\item 7\n",
       "\\item 44\n",
       "\\item 33\n",
       "\\item 74\n",
       "\\item 64\n",
       "\\item 70\n",
       "\\item 77\n",
       "\\item 65\n",
       "\\item 77\n",
       "\\item 82\n",
       "\\item 53\n",
       "\\item 67\n",
       "\\item 77\n",
       "\\item 71\n",
       "\\item 64\n",
       "\\item 73\n",
       "\\item 25\n",
       "\\item 59\n",
       "\\item 56\n",
       "\\item 75\n",
       "\\item 32\n",
       "\\item 69\n",
       "\\item 20\n",
       "\\item 94\n",
       "\\item 64\n",
       "\\item 73\n",
       "\\item 65\n",
       "\\item 37\n",
       "\\item 49\n",
       "\\item 54\n",
       "\\item 50\n",
       "\\item 66\n",
       "\\item 77\n",
       "\\item 61\n",
       "\\item 63\n",
       "\\item 72\n",
       "\\item 79\n",
       "\\item 66\n",
       "\\item 64\n",
       "\\item 54\n",
       "\\item 65\n",
       "\\item 41\n",
       "\\item 64\n",
       "\\item 32\n",
       "\\item 74\n",
       "\\item 90\n",
       "\\item 30\n",
       "\\item 76\n",
       "\\item 80\n",
       "\\item 57\n",
       "\\item 36\n",
       "\\item 70\n",
       "\\item 56\n",
       "\\item 59\n",
       "\\item 54\n",
       "\\item 65\n",
       "\\item 73\n",
       "\\item 64\n",
       "\\item 46\n",
       "\\end{enumerate*}\n"
      ],
      "text/markdown": [
       "1. 82\n",
       "2. 71\n",
       "3. 34\n",
       "4. 88\n",
       "5. 44\n",
       "6. 37\n",
       "7. 38\n",
       "8. 74\n",
       "9. 64\n",
       "10. 67\n",
       "11. 74\n",
       "12. 64\n",
       "13. 32\n",
       "14. 83\n",
       "15. 39\n",
       "16. 93\n",
       "17. 64\n",
       "18. 85\n",
       "19. 66\n",
       "20. 52\n",
       "21. 65\n",
       "22. 42\n",
       "23. 60\n",
       "24. 44\n",
       "25. 56\n",
       "26. 40\n",
       "27. 63\n",
       "28. 62\n",
       "29. 64\n",
       "30. 76\n",
       "31. 60\n",
       "32. 50\n",
       "33. 33\n",
       "34. 66\n",
       "35. 29\n",
       "36. 66\n",
       "37. 59\n",
       "38. 70\n",
       "39. 64\n",
       "40. 64\n",
       "41. 64\n",
       "42. 80\n",
       "43. 7\n",
       "44. 44\n",
       "45. 33\n",
       "46. 74\n",
       "47. 64\n",
       "48. 70\n",
       "49. 77\n",
       "50. 65\n",
       "51. 77\n",
       "52. 82\n",
       "53. 53\n",
       "54. 67\n",
       "55. 77\n",
       "56. 71\n",
       "57. 64\n",
       "58. 73\n",
       "59. 25\n",
       "60. 59\n",
       "61. 56\n",
       "62. 75\n",
       "63. 32\n",
       "64. 69\n",
       "65. 20\n",
       "66. 94\n",
       "67. 64\n",
       "68. 73\n",
       "69. 65\n",
       "70. 37\n",
       "71. 49\n",
       "72. 54\n",
       "73. 50\n",
       "74. 66\n",
       "75. 77\n",
       "76. 61\n",
       "77. 63\n",
       "78. 72\n",
       "79. 79\n",
       "80. 66\n",
       "81. 64\n",
       "82. 54\n",
       "83. 65\n",
       "84. 41\n",
       "85. 64\n",
       "86. 32\n",
       "87. 74\n",
       "88. 90\n",
       "89. 30\n",
       "90. 76\n",
       "91. 80\n",
       "92. 57\n",
       "93. 36\n",
       "94. 70\n",
       "95. 56\n",
       "96. 59\n",
       "97. 54\n",
       "98. 65\n",
       "99. 73\n",
       "100. 64\n",
       "101. 46\n",
       "\n",
       "\n"
      ],
      "text/plain": [
       "  [1] 82 71 34 88 44 37 38 74 64 67 74 64 32 83 39 93 64 85 66 52 65 42 60 44 56\n",
       " [26] 40 63 62 64 76 60 50 33 66 29 66 59 70 64 64 64 80  7 44 33 74 64 70 77 65\n",
       " [51] 77 82 53 67 77 71 64 73 25 59 56 75 32 69 20 94 64 73 65 37 49 54 50 66 77\n",
       " [76] 61 63 72 79 66 64 54 65 41 64 32 74 90 30 76 80 57 36 70 56 59 54 65 73 64\n",
       "[101] 46"
      ]
     },
     "metadata": {},
     "output_type": "display_data"
    }
   ],
   "source": [
    "exams$Exam.2"
   ]
  },
  {
   "cell_type": "markdown",
   "metadata": {},
   "source": [
    "Lets get the mean of 20 samples"
   ]
  },
  {
   "cell_type": "code",
   "execution_count": 13,
   "metadata": {},
   "outputs": [],
   "source": [
    "store_diff <- rep(0,20)"
   ]
  },
  {
   "cell_type": "code",
   "execution_count": 15,
   "metadata": {},
   "outputs": [],
   "source": [
    "for (i in 1:20) {\n",
    " samp <- sample(seq(1,length(exams$Exam.2)),10, replace = TRUE)\n",
    " my_sample <-exams$Exam.2[samp]\n",
    " store_diff[i] <- mean(my_sample)\n",
    " }"
   ]
  },
  {
   "cell_type": "code",
   "execution_count": 16,
   "metadata": {},
   "outputs": [
    {
     "data": {
      "text/html": [
       "61.12"
      ],
      "text/latex": [
       "61.12"
      ],
      "text/markdown": [
       "61.12"
      ],
      "text/plain": [
       "[1] 61.12"
      ]
     },
     "metadata": {},
     "output_type": "display_data"
    }
   ],
   "source": [
    "mean(store_diff)"
   ]
  },
  {
   "cell_type": "markdown",
   "metadata": {},
   "source": [
    "Now lets get the mean of 80 samples"
   ]
  },
  {
   "cell_type": "code",
   "execution_count": 18,
   "metadata": {},
   "outputs": [],
   "source": [
    "store_diff2 <- rep(0,80)"
   ]
  },
  {
   "cell_type": "code",
   "execution_count": 19,
   "metadata": {},
   "outputs": [],
   "source": [
    "for (i in 1:80) {\n",
    " samp <- sample(seq(1,length(exams$Exam.2)),10, replace = TRUE)\n",
    " my_sample <-exams$Exam.2[samp]\n",
    " store_diff2[i] <- mean(my_sample)\n",
    " }"
   ]
  },
  {
   "cell_type": "code",
   "execution_count": 20,
   "metadata": {},
   "outputs": [
    {
     "data": {
      "text/html": [
       "60.35375"
      ],
      "text/latex": [
       "60.35375"
      ],
      "text/markdown": [
       "60.35375"
      ],
      "text/plain": [
       "[1] 60.35375"
      ]
     },
     "metadata": {},
     "output_type": "display_data"
    }
   ],
   "source": [
    "mean(store_diff2)"
   ]
  },
  {
   "cell_type": "markdown",
   "metadata": {},
   "source": [
    "20 samples mean: 61.12<br/>\n",
    "80 samples mean: 60.35375"
   ]
  },
  {
   "cell_type": "markdown",
   "metadata": {},
   "source": [
    "### Problem 4"
   ]
  },
  {
   "cell_type": "code",
   "execution_count": 21,
   "metadata": {},
   "outputs": [
    {
     "data": {
      "text/html": [
       "60.2178217821782"
      ],
      "text/latex": [
       "60.2178217821782"
      ],
      "text/markdown": [
       "60.2178217821782"
      ],
      "text/plain": [
       "[1] 60.21782"
      ]
     },
     "metadata": {},
     "output_type": "display_data"
    }
   ],
   "source": [
    "mean(exams$Exam.2)"
   ]
  },
  {
   "cell_type": "markdown",
   "metadata": {},
   "source": [
    "Difference of mean between regular mean and 20 samples"
   ]
  },
  {
   "cell_type": "code",
   "execution_count": 22,
   "metadata": {},
   "outputs": [
    {
     "data": {
      "text/html": [
       "0.902178217821778"
      ],
      "text/latex": [
       "0.902178217821778"
      ],
      "text/markdown": [
       "0.902178217821778"
      ],
      "text/plain": [
       "[1] 0.9021782"
      ]
     },
     "metadata": {},
     "output_type": "display_data"
    }
   ],
   "source": [
    " abs(mean(exams$Exam.2) - mean(store_diff))"
   ]
  },
  {
   "cell_type": "markdown",
   "metadata": {},
   "source": [
    "Lets get the percent difference for mean and 20 samples"
   ]
  },
  {
   "cell_type": "code",
   "execution_count": 34,
   "metadata": {},
   "outputs": [
    {
     "data": {
      "text/html": [
       "0.371762985592958"
      ],
      "text/latex": [
       "0.371762985592958"
      ],
      "text/markdown": [
       "0.371762985592958"
      ],
      "text/plain": [
       "[1] 0.371763"
      ]
     },
     "metadata": {},
     "output_type": "display_data"
    }
   ],
   "source": [
    "(abs(mean(exams$Exam.2) - mean(store_diff)) / (mean(exams$Exam.2) + mean(store_diff))/2)*100"
   ]
  },
  {
   "cell_type": "markdown",
   "metadata": {},
   "source": [
    "We could sethat the percent difference between the mean and 20 samples is 0.37  percent<br/>\n",
    "Therefore our 20 sample measure is pretty accurate"
   ]
  },
  {
   "cell_type": "markdown",
   "metadata": {},
   "source": [
    "Let get the percent difference between mean and 80 samples"
   ]
  },
  {
   "cell_type": "code",
   "execution_count": 36,
   "metadata": {},
   "outputs": [
    {
     "data": {
      "text/html": [
       "0.0563682698220701"
      ],
      "text/latex": [
       "0.0563682698220701"
      ],
      "text/markdown": [
       "0.0563682698220701"
      ],
      "text/plain": [
       "[1] 0.05636827"
      ]
     },
     "metadata": {},
     "output_type": "display_data"
    }
   ],
   "source": [
    "(abs(mean(exams$Exam.2) - mean(store_diff2)) / (mean(exams$Exam.2) +\n",
    "mean(store_diff2))/2)*100"
   ]
  },
  {
   "cell_type": "markdown",
   "metadata": {},
   "source": [
    "We could sethat the percent difference between the mean and 80 samples is 0.05  percent<br/>\n",
    "Therefore our 80 sample measure is pretty accurate"
   ]
  },
  {
   "cell_type": "markdown",
   "metadata": {},
   "source": [
    "### Problem 5"
   ]
  },
  {
   "cell_type": "markdown",
   "metadata": {},
   "source": [
    "Lets replace our null values"
   ]
  },
  {
   "cell_type": "code",
   "execution_count": 39,
   "metadata": {},
   "outputs": [],
   "source": [
    "exams$Exam.1[which(is.na(exams$Exam.1))] <- median(exams$Exam.1,na.rm\n",
    " = TRUE)"
   ]
  },
  {
   "cell_type": "code",
   "execution_count": 40,
   "metadata": {},
   "outputs": [],
   "source": [
    "exams$Exam.3[which(is.na(exams$Exam.3))] <- median(exams$Exam.3,na.rm\n",
    " = TRUE)"
   ]
  },
  {
   "cell_type": "code",
   "execution_count": 42,
   "metadata": {},
   "outputs": [],
   "source": [
    "exams$Final.Exam[which(is.na(exams$Final.Exam))] <- median(exams$Final.Exam,na.rm\n",
    " = TRUE)"
   ]
  },
  {
   "cell_type": "code",
   "execution_count": 43,
   "metadata": {},
   "outputs": [
    {
     "data": {
      "text/html": [
       "0.60360333206182"
      ],
      "text/latex": [
       "0.60360333206182"
      ],
      "text/markdown": [
       "0.60360333206182"
      ],
      "text/plain": [
       "[1] 0.6036033"
      ]
     },
     "metadata": {},
     "output_type": "display_data"
    }
   ],
   "source": [
    "cor(exams$Exam.1,exams$Exam.2,method = 'pearson')"
   ]
  },
  {
   "cell_type": "code",
   "execution_count": 44,
   "metadata": {},
   "outputs": [
    {
     "data": {
      "text/html": [
       "0.629473324951496"
      ],
      "text/latex": [
       "0.629473324951496"
      ],
      "text/markdown": [
       "0.629473324951496"
      ],
      "text/plain": [
       "[1] 0.6294733"
      ]
     },
     "metadata": {},
     "output_type": "display_data"
    }
   ],
   "source": [
    "cor(exams$Exam.1,exams$Exam.3,method = 'pearson')"
   ]
  },
  {
   "cell_type": "code",
   "execution_count": 45,
   "metadata": {},
   "outputs": [
    {
     "data": {
      "text/html": [
       "0.544779341934105"
      ],
      "text/latex": [
       "0.544779341934105"
      ],
      "text/markdown": [
       "0.544779341934105"
      ],
      "text/plain": [
       "[1] 0.5447793"
      ]
     },
     "metadata": {},
     "output_type": "display_data"
    }
   ],
   "source": [
    "cor(exams$Exam.1,exams$Final.Exam,method = 'pearson')"
   ]
  },
  {
   "cell_type": "code",
   "execution_count": 46,
   "metadata": {},
   "outputs": [
    {
     "data": {
      "text/html": [
       "0.60360333206182"
      ],
      "text/latex": [
       "0.60360333206182"
      ],
      "text/markdown": [
       "0.60360333206182"
      ],
      "text/plain": [
       "[1] 0.6036033"
      ]
     },
     "metadata": {},
     "output_type": "display_data"
    }
   ],
   "source": [
    "cor(exams$Exam.2,exams$Exam.1,method = 'pearson')"
   ]
  },
  {
   "cell_type": "code",
   "execution_count": 47,
   "metadata": {},
   "outputs": [
    {
     "data": {
      "text/html": [
       "0.790322229490751"
      ],
      "text/latex": [
       "0.790322229490751"
      ],
      "text/markdown": [
       "0.790322229490751"
      ],
      "text/plain": [
       "[1] 0.7903222"
      ]
     },
     "metadata": {},
     "output_type": "display_data"
    }
   ],
   "source": [
    "cor(exams$Exam.2,exams$Exam.3,method = 'pearson')"
   ]
  },
  {
   "cell_type": "code",
   "execution_count": 48,
   "metadata": {},
   "outputs": [
    {
     "data": {
      "text/html": [
       "0.68555205569794"
      ],
      "text/latex": [
       "0.68555205569794"
      ],
      "text/markdown": [
       "0.68555205569794"
      ],
      "text/plain": [
       "[1] 0.6855521"
      ]
     },
     "metadata": {},
     "output_type": "display_data"
    }
   ],
   "source": [
    "cor(exams$Exam.2,exams$Final.Exam,method = 'pearson')"
   ]
  },
  {
   "cell_type": "code",
   "execution_count": 49,
   "metadata": {},
   "outputs": [
    {
     "data": {
      "text/html": [
       "0.629473324951496"
      ],
      "text/latex": [
       "0.629473324951496"
      ],
      "text/markdown": [
       "0.629473324951496"
      ],
      "text/plain": [
       "[1] 0.6294733"
      ]
     },
     "metadata": {},
     "output_type": "display_data"
    }
   ],
   "source": [
    "cor(exams$Exam.3,exams$Exam.1,method = 'pearson')"
   ]
  },
  {
   "cell_type": "code",
   "execution_count": 51,
   "metadata": {},
   "outputs": [
    {
     "data": {
      "text/html": [
       "0.790322229490751"
      ],
      "text/latex": [
       "0.790322229490751"
      ],
      "text/markdown": [
       "0.790322229490751"
      ],
      "text/plain": [
       "[1] 0.7903222"
      ]
     },
     "metadata": {},
     "output_type": "display_data"
    }
   ],
   "source": [
    "cor(exams$Exam.3,exams$Exam.2,method = 'pearson')"
   ]
  },
  {
   "cell_type": "code",
   "execution_count": 52,
   "metadata": {},
   "outputs": [
    {
     "data": {
      "text/html": [
       "0.788910040293067"
      ],
      "text/latex": [
       "0.788910040293067"
      ],
      "text/markdown": [
       "0.788910040293067"
      ],
      "text/plain": [
       "[1] 0.78891"
      ]
     },
     "metadata": {},
     "output_type": "display_data"
    }
   ],
   "source": [
    "cor(exams$Exam.3,exams$Final.Exam,method = 'pearson')"
   ]
  },
  {
   "cell_type": "code",
   "execution_count": 53,
   "metadata": {},
   "outputs": [
    {
     "data": {
      "text/html": [
       "0.544779341934105"
      ],
      "text/latex": [
       "0.544779341934105"
      ],
      "text/markdown": [
       "0.544779341934105"
      ],
      "text/plain": [
       "[1] 0.5447793"
      ]
     },
     "metadata": {},
     "output_type": "display_data"
    }
   ],
   "source": [
    "cor(exams$Final.Exam,exams$Exam.1,method = 'pearson')"
   ]
  },
  {
   "cell_type": "code",
   "execution_count": 54,
   "metadata": {},
   "outputs": [
    {
     "data": {
      "text/html": [
       "0.68555205569794"
      ],
      "text/latex": [
       "0.68555205569794"
      ],
      "text/markdown": [
       "0.68555205569794"
      ],
      "text/plain": [
       "[1] 0.6855521"
      ]
     },
     "metadata": {},
     "output_type": "display_data"
    }
   ],
   "source": [
    "cor(exams$Final.Exam,exams$Exam.2,method = 'pearson')"
   ]
  },
  {
   "cell_type": "code",
   "execution_count": 55,
   "metadata": {},
   "outputs": [
    {
     "data": {
      "text/html": [
       "0.788910040293067"
      ],
      "text/latex": [
       "0.788910040293067"
      ],
      "text/markdown": [
       "0.788910040293067"
      ],
      "text/plain": [
       "[1] 0.78891"
      ]
     },
     "metadata": {},
     "output_type": "display_data"
    }
   ],
   "source": [
    "cor(exams$Final.Exam,exams$Exam.3,method = 'pearson')"
   ]
  },
  {
   "cell_type": "code",
   "execution_count": 56,
   "metadata": {},
   "outputs": [],
   "source": [
    "results <- matrix(c(1.0,0.603,0.629,0.544,0.603,1.0,0.790,0.685,0.629\n",
    ",0.790,1.0,0.788,0.544,0.685,0.788,1.0),ncol =4)"
   ]
  },
  {
   "cell_type": "code",
   "execution_count": 57,
   "metadata": {},
   "outputs": [
    {
     "data": {
      "text/html": [
       "<table>\n",
       "<tbody>\n",
       "\t<tr><td>1.000</td><td>0.603</td><td>0.629</td><td>0.544</td></tr>\n",
       "\t<tr><td>0.603</td><td>1.000</td><td>0.790</td><td>0.685</td></tr>\n",
       "\t<tr><td>0.629</td><td>0.790</td><td>1.000</td><td>0.788</td></tr>\n",
       "\t<tr><td>0.544</td><td>0.685</td><td>0.788</td><td>1.000</td></tr>\n",
       "</tbody>\n",
       "</table>\n"
      ],
      "text/latex": [
       "\\begin{tabular}{llll}\n",
       "\t 1.000 & 0.603 & 0.629 & 0.544\\\\\n",
       "\t 0.603 & 1.000 & 0.790 & 0.685\\\\\n",
       "\t 0.629 & 0.790 & 1.000 & 0.788\\\\\n",
       "\t 0.544 & 0.685 & 0.788 & 1.000\\\\\n",
       "\\end{tabular}\n"
      ],
      "text/markdown": [
       "\n",
       "| 1.000 | 0.603 | 0.629 | 0.544 |\n",
       "| 0.603 | 1.000 | 0.790 | 0.685 |\n",
       "| 0.629 | 0.790 | 1.000 | 0.788 |\n",
       "| 0.544 | 0.685 | 0.788 | 1.000 |\n",
       "\n"
      ],
      "text/plain": [
       "     [,1]  [,2]  [,3]  [,4] \n",
       "[1,] 1.000 0.603 0.629 0.544\n",
       "[2,] 0.603 1.000 0.790 0.685\n",
       "[3,] 0.629 0.790 1.000 0.788\n",
       "[4,] 0.544 0.685 0.788 1.000"
      ]
     },
     "metadata": {},
     "output_type": "display_data"
    }
   ],
   "source": [
    "results"
   ]
  },
  {
   "cell_type": "code",
   "execution_count": 59,
   "metadata": {},
   "outputs": [],
   "source": [
    "rownames(results) <- c('Exam 1', 'Exam 2','Exam 3', 'Final Exam')"
   ]
  },
  {
   "cell_type": "code",
   "execution_count": 60,
   "metadata": {},
   "outputs": [],
   "source": [
    "colnames(results) <- c('Exam 1', 'Exam 2','Exam 3', 'Final Exam')"
   ]
  },
  {
   "cell_type": "code",
   "execution_count": 61,
   "metadata": {},
   "outputs": [
    {
     "data": {
      "text/html": [
       "<table>\n",
       "<thead><tr><th></th><th scope=col>Exam 1</th><th scope=col>Exam 2</th><th scope=col>Exam 3</th><th scope=col>Final Exam</th></tr></thead>\n",
       "<tbody>\n",
       "\t<tr><th scope=row>Exam 1</th><td>1.000</td><td>0.603</td><td>0.629</td><td>0.544</td></tr>\n",
       "\t<tr><th scope=row>Exam 2</th><td>0.603</td><td>1.000</td><td>0.790</td><td>0.685</td></tr>\n",
       "\t<tr><th scope=row>Exam 3</th><td>0.629</td><td>0.790</td><td>1.000</td><td>0.788</td></tr>\n",
       "\t<tr><th scope=row>Final Exam</th><td>0.544</td><td>0.685</td><td>0.788</td><td>1.000</td></tr>\n",
       "</tbody>\n",
       "</table>\n"
      ],
      "text/latex": [
       "\\begin{tabular}{r|llll}\n",
       "  & Exam 1 & Exam 2 & Exam 3 & Final Exam\\\\\n",
       "\\hline\n",
       "\tExam 1 & 1.000 & 0.603 & 0.629 & 0.544\\\\\n",
       "\tExam 2 & 0.603 & 1.000 & 0.790 & 0.685\\\\\n",
       "\tExam 3 & 0.629 & 0.790 & 1.000 & 0.788\\\\\n",
       "\tFinal Exam & 0.544 & 0.685 & 0.788 & 1.000\\\\\n",
       "\\end{tabular}\n"
      ],
      "text/markdown": [
       "\n",
       "| <!--/--> | Exam 1 | Exam 2 | Exam 3 | Final Exam |\n",
       "|---|---|---|---|---|\n",
       "| Exam 1 | 1.000 | 0.603 | 0.629 | 0.544 |\n",
       "| Exam 2 | 0.603 | 1.000 | 0.790 | 0.685 |\n",
       "| Exam 3 | 0.629 | 0.790 | 1.000 | 0.788 |\n",
       "| Final Exam | 0.544 | 0.685 | 0.788 | 1.000 |\n",
       "\n"
      ],
      "text/plain": [
       "           Exam 1 Exam 2 Exam 3 Final Exam\n",
       "Exam 1     1.000  0.603  0.629  0.544     \n",
       "Exam 2     0.603  1.000  0.790  0.685     \n",
       "Exam 3     0.629  0.790  1.000  0.788     \n",
       "Final Exam 0.544  0.685  0.788  1.000     "
      ]
     },
     "metadata": {},
     "output_type": "display_data"
    }
   ],
   "source": [
    "results"
   ]
  },
  {
   "cell_type": "markdown",
   "metadata": {},
   "source": [
    "The results suggest that the correlation results are the same if done in reverse:<br/>\n",
    "For example cor(a,b) == cor(b,a)"
   ]
  },
  {
   "cell_type": "code",
   "execution_count": null,
   "metadata": {},
   "outputs": [],
   "source": []
  }
 ],
 "metadata": {
  "kernelspec": {
   "display_name": "R",
   "language": "R",
   "name": "ir"
  },
  "language_info": {
   "codemirror_mode": "r",
   "file_extension": ".r",
   "mimetype": "text/x-r-source",
   "name": "R",
   "pygments_lexer": "r",
   "version": "3.6.1"
  }
 },
 "nbformat": 4,
 "nbformat_minor": 4
}
